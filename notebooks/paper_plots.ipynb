{
 "cells": [
  {
   "cell_type": "code",
   "execution_count": 104,
   "id": "963ce531-438f-4db4-be86-0876bcc9a9bf",
   "metadata": {},
   "outputs": [],
   "source": [
    "import os\n",
    "import numpy as np\n",
    "import pandas as pd\n",
    "import matplotlib.pyplot as plt\n",
    "import lightkurve as lk\n",
    "\n",
    "from tessrip import Rip\n",
    "from astropy.time import Time\n",
    "from tqdm import tqdm\n",
    "from tess_asteroid_ml import *\n",
    "import seaborn as sb\n",
    "\n",
    "import tarfile"
   ]
  },
  {
   "cell_type": "code",
   "execution_count": 100,
   "id": "b420d828-d80d-4fd4-a7e8-e02812c849c4",
   "metadata": {
    "scrolled": true
   },
   "outputs": [
    {
     "name": "stderr",
     "output_type": "stream",
     "text": [
      " ... (more hidden) .../var/folders/j8/c7r_2l5j7n5f0kstmn4l5w8h0000gn/T/ipykernel_33357/353259467.py:13: DtypeWarning: Columns (4,12) have mixed types. Specify dtype option on import or set low_memory=False.\n",
      "  jpl_sb = pd.read_csv(jpl_sbi_file, index_col=0)\n",
      " ... (more hidden) ..."
     ]
    },
    {
     "name": "stdout",
     "output_type": "stream",
     "text": [
      "Loading from CSV file...\n",
      "Loading from CSV file...\n",
      "Loading from CSV file...\n",
      "Loading from CSV file...\n",
      "Loading from CSV file...\n"
     ]
    },
    {
     "name": "stderr",
     "output_type": "stream",
     "text": [
      " ... (more hidden) ..."
     ]
    },
    {
     "name": "stdout",
     "output_type": "stream",
     "text": [
      "Loading from CSV file...\n",
      "Loading from CSV file...\n",
      "Loading from CSV file...\n",
      "Loading from CSV file...\n",
      "Loading from CSV file...\n",
      "Loading from CSV file...\n",
      "Loading from CSV file...\n",
      "Loading from CSV file...\n"
     ]
    },
    {
     "name": "stderr",
     "output_type": "stream",
     "text": [
      "/var/folders/j8/c7r_2l5j7n5f0kstmn4l5w8h0000gn/T/ipykernel_33357/353259467.py:13: DtypeWarning: Columns (4,12) have mixed types. Specify dtype option on import or set low_memory=False.\n",
      "  jpl_sb = pd.read_csv(jpl_sbi_file, index_col=0)\n",
      " ... (more hidden) ..."
     ]
    },
    {
     "name": "stdout",
     "output_type": "stream",
     "text": [
      "Loading from CSV file...\n",
      "Loading from CSV file...\n",
      "Loading from CSV file...\n",
      "Loading from CSV file...\n",
      "Loading from CSV file...\n",
      "Loading from CSV file...\n",
      "Loading from CSV file...\n",
      "Loading from CSV file...\n"
     ]
    },
    {
     "name": "stderr",
     "output_type": "stream",
     "text": [
      " ... (more hidden) ..."
     ]
    },
    {
     "name": "stdout",
     "output_type": "stream",
     "text": [
      "Loading from CSV file...\n",
      "Loading from CSV file...\n",
      "Loading from CSV file...\n",
      "Loading from CSV file...\n",
      "Loading from CSV file...\n",
      "Loading from CSV file...\n",
      "Loading from CSV file...\n",
      "Loading from CSV file...\n"
     ]
    },
    {
     "name": "stderr",
     "output_type": "stream",
     "text": [
      "/var/folders/j8/c7r_2l5j7n5f0kstmn4l5w8h0000gn/T/ipykernel_33357/353259467.py:13: DtypeWarning: Columns (4,12) have mixed types. Specify dtype option on import or set low_memory=False.\n",
      "  jpl_sb = pd.read_csv(jpl_sbi_file, index_col=0)\n",
      " ... (more hidden) ..."
     ]
    },
    {
     "name": "stdout",
     "output_type": "stream",
     "text": [
      "Loading from CSV file...\n",
      "Loading from CSV file...\n",
      "Loading from CSV file...\n",
      "Loading from CSV file...\n",
      "Loading from CSV file...\n",
      "Loading from CSV file...\n",
      "Loading from CSV file...\n",
      "Loading from CSV file...\n"
     ]
    },
    {
     "name": "stderr",
     "output_type": "stream",
     "text": [
      "/var/folders/j8/c7r_2l5j7n5f0kstmn4l5w8h0000gn/T/ipykernel_33357/353259467.py:13: DtypeWarning: Columns (4,12) have mixed types. Specify dtype option on import or set low_memory=False.\n",
      "  jpl_sb = pd.read_csv(jpl_sbi_file, index_col=0)\n",
      " ... (more hidden) ..."
     ]
    },
    {
     "name": "stdout",
     "output_type": "stream",
     "text": [
      "Loading from CSV file...\n",
      "Loading from CSV file...\n",
      "Loading from CSV file...\n",
      "Loading from CSV file...\n",
      "Loading from CSV file...\n",
      "Loading from CSV file...\n",
      "Loading from CSV file...\n",
      "Loading from CSV file...\n"
     ]
    },
    {
     "name": "stderr",
     "output_type": "stream",
     "text": [
      " ... (more hidden) ..."
     ]
    },
    {
     "name": "stdout",
     "output_type": "stream",
     "text": [
      "Loading from CSV file...\n",
      "Loading from CSV file...\n",
      "Loading from CSV file...\n",
      "Loading from CSV file...\n",
      "Loading from CSV file...\n",
      "Loading from CSV file...\n",
      "Loading from CSV file...\n"
     ]
    },
    {
     "name": "stderr",
     "output_type": "stream",
     "text": [
      "\n"
     ]
    }
   ],
   "source": [
    "sector = 5\n",
    "\n",
    "big_cat = []\n",
    "\n",
    "for sector in tqdm(range(1, 14), total=13):\n",
    "    for camera in range(1, 5):\n",
    "        scc_str = f\"s{sector:04}-{camera}-{0}\"\n",
    "        \n",
    "        jpl_sbi_file = (f\"{os.path.dirname(PACKAGEDIR)}/data/jpl\"\n",
    "                        f\"/jpl_small_bodies_tess_{scc_str}_catalog.csv\")    \n",
    "        if os.path.isfile(jpl_sbi_file):\n",
    "            print(\"Loading from CSV file...\")\n",
    "            jpl_sb = pd.read_csv(jpl_sbi_file, index_col=0)\n",
    "            big_cat.append(jpl_sb)"
   ]
  },
  {
   "cell_type": "code",
   "execution_count": 101,
   "id": "5ea5c344-fab0-4597-940b-cec43c6733e0",
   "metadata": {},
   "outputs": [],
   "source": [
    "big_cat_1 = pd.concat(big_cat).drop_duplicates(subset=[\"Object name\"]).reset_index(drop=True)"
   ]
  },
  {
   "cell_type": "raw",
   "id": "df2f5385-e4b8-4b70-ad84-c8f83d7d29b3",
   "metadata": {},
   "source": [
    "for k in range(4):\n",
    "    print(big_cat[k].shape[0])\n",
    "    print(big_cat[k].shape[0] / big_cat_1.shape[0] * 100)\n",
    "    print(\"____\")"
   ]
  },
  {
   "cell_type": "code",
   "execution_count": 118,
   "id": "33a4f4b5-8295-4507-8664-946404037bcc",
   "metadata": {},
   "outputs": [
    {
     "data": {
      "text/html": [
       "<div>\n",
       "<style scoped>\n",
       "    .dataframe tbody tr th:only-of-type {\n",
       "        vertical-align: middle;\n",
       "    }\n",
       "\n",
       "    .dataframe tbody tr th {\n",
       "        vertical-align: top;\n",
       "    }\n",
       "\n",
       "    .dataframe thead th {\n",
       "        text-align: right;\n",
       "    }\n",
       "</style>\n",
       "<table border=\"1\" class=\"dataframe\">\n",
       "  <thead>\n",
       "    <tr style=\"text-align: right;\">\n",
       "      <th></th>\n",
       "      <th>Object name</th>\n",
       "      <th>Astrometric RA (hh:mm:ss)</th>\n",
       "      <th>Astrometric Dec (dd mm'ss\")</th>\n",
       "      <th>Visual magnitude (V)</th>\n",
       "      <th>RA rate (\"/h)</th>\n",
       "      <th>Dec rate (\"/h)</th>\n",
       "      <th>ra</th>\n",
       "      <th>dec</th>\n",
       "      <th>V_mag</th>\n",
       "      <th>name</th>\n",
       "      <th>...</th>\n",
       "      <th>Magnitude slope (G)</th>\n",
       "      <th>Eccentricity</th>\n",
       "      <th>Perihelion (au)</th>\n",
       "      <th>Time of perihelion passage (JD)</th>\n",
       "      <th>Longitude of ascending node (deg)</th>\n",
       "      <th>Argument of perihelion (deg)</th>\n",
       "      <th>Inclination (deg)</th>\n",
       "      <th>Epoch (JD)</th>\n",
       "      <th>H_mag</th>\n",
       "      <th>kind</th>\n",
       "    </tr>\n",
       "  </thead>\n",
       "  <tbody>\n",
       "    <tr>\n",
       "      <th>0</th>\n",
       "      <td>14 Irene (A851 KA)</td>\n",
       "      <td>20:18:32.62</td>\n",
       "      <td>-28:16:09.1</td>\n",
       "      <td>10.2</td>\n",
       "      <td>-37.7000</td>\n",
       "      <td>-14.660</td>\n",
       "      <td>304.635917</td>\n",
       "      <td>-28.269194</td>\n",
       "      <td>10.2</td>\n",
       "      <td>14 Irene</td>\n",
       "      <td>...</td>\n",
       "      <td>0.15</td>\n",
       "      <td>0.163735</td>\n",
       "      <td>2.165955</td>\n",
       "      <td>2.460944e+06</td>\n",
       "      <td>86.027807</td>\n",
       "      <td>97.907108</td>\n",
       "      <td>9.123808</td>\n",
       "      <td>2460400.5</td>\n",
       "      <td>6.55</td>\n",
       "      <td>a</td>\n",
       "    </tr>\n",
       "    <tr>\n",
       "      <th>1</th>\n",
       "      <td>47 Aglaja (A857 RA)</td>\n",
       "      <td>21:42:37.15</td>\n",
       "      <td>-20:20:44.9</td>\n",
       "      <td>11.7</td>\n",
       "      <td>-31.3100</td>\n",
       "      <td>-10.020</td>\n",
       "      <td>325.654792</td>\n",
       "      <td>-20.345806</td>\n",
       "      <td>11.7</td>\n",
       "      <td>47 Aglaja</td>\n",
       "      <td>...</td>\n",
       "      <td>0.16</td>\n",
       "      <td>0.130382</td>\n",
       "      <td>2.506289</td>\n",
       "      <td>2.460132e+06</td>\n",
       "      <td>3.048636</td>\n",
       "      <td>315.475880</td>\n",
       "      <td>4.973808</td>\n",
       "      <td>2460400.5</td>\n",
       "      <td>8.20</td>\n",
       "      <td>a</td>\n",
       "    </tr>\n",
       "    <tr>\n",
       "      <th>2</th>\n",
       "      <td>55 Pandora (A858 RB)</td>\n",
       "      <td>20:31:07.63</td>\n",
       "      <td>-30:10:03.9</td>\n",
       "      <td>11.3</td>\n",
       "      <td>-37.7300</td>\n",
       "      <td>-7.225</td>\n",
       "      <td>307.781792</td>\n",
       "      <td>-30.167750</td>\n",
       "      <td>11.3</td>\n",
       "      <td>55 Pandora</td>\n",
       "      <td>...</td>\n",
       "      <td>0.15</td>\n",
       "      <td>0.144925</td>\n",
       "      <td>2.360695</td>\n",
       "      <td>2.460270e+06</td>\n",
       "      <td>10.352186</td>\n",
       "      <td>5.385047</td>\n",
       "      <td>7.177599</td>\n",
       "      <td>2460400.5</td>\n",
       "      <td>7.86</td>\n",
       "      <td>a</td>\n",
       "    </tr>\n",
       "    <tr>\n",
       "      <th>3</th>\n",
       "      <td>70 Panopaea (A861 JA)</td>\n",
       "      <td>22:05:41.20</td>\n",
       "      <td>-34:17:55.4</td>\n",
       "      <td>11.0</td>\n",
       "      <td>-27.8300</td>\n",
       "      <td>-22.000</td>\n",
       "      <td>331.421667</td>\n",
       "      <td>-34.298722</td>\n",
       "      <td>11.0</td>\n",
       "      <td>70 Panopaea</td>\n",
       "      <td>...</td>\n",
       "      <td>0.14</td>\n",
       "      <td>0.182227</td>\n",
       "      <td>2.138606</td>\n",
       "      <td>2.459845e+06</td>\n",
       "      <td>47.651835</td>\n",
       "      <td>255.575170</td>\n",
       "      <td>11.598061</td>\n",
       "      <td>2460400.5</td>\n",
       "      <td>8.20</td>\n",
       "      <td>a</td>\n",
       "    </tr>\n",
       "    <tr>\n",
       "      <th>4</th>\n",
       "      <td>81 Terpsichore (A864 SA)</td>\n",
       "      <td>22:17:00.09</td>\n",
       "      <td>-19:05:47.0</td>\n",
       "      <td>12.9</td>\n",
       "      <td>-26.3200</td>\n",
       "      <td>-9.890</td>\n",
       "      <td>334.250375</td>\n",
       "      <td>-19.096389</td>\n",
       "      <td>12.9</td>\n",
       "      <td>81 Terpsichore</td>\n",
       "      <td>...</td>\n",
       "      <td>0.15</td>\n",
       "      <td>0.212253</td>\n",
       "      <td>2.247969</td>\n",
       "      <td>2.460421e+06</td>\n",
       "      <td>0.940849</td>\n",
       "      <td>51.386776</td>\n",
       "      <td>7.801877</td>\n",
       "      <td>2460400.5</td>\n",
       "      <td>8.71</td>\n",
       "      <td>a</td>\n",
       "    </tr>\n",
       "    <tr>\n",
       "      <th>...</th>\n",
       "      <td>...</td>\n",
       "      <td>...</td>\n",
       "      <td>...</td>\n",
       "      <td>...</td>\n",
       "      <td>...</td>\n",
       "      <td>...</td>\n",
       "      <td>...</td>\n",
       "      <td>...</td>\n",
       "      <td>...</td>\n",
       "      <td>...</td>\n",
       "      <td>...</td>\n",
       "      <td>...</td>\n",
       "      <td>...</td>\n",
       "      <td>...</td>\n",
       "      <td>...</td>\n",
       "      <td>...</td>\n",
       "      <td>...</td>\n",
       "      <td>...</td>\n",
       "      <td>...</td>\n",
       "      <td>...</td>\n",
       "      <td>...</td>\n",
       "    </tr>\n",
       "    <tr>\n",
       "      <th>412609</th>\n",
       "      <td>(2014 OJ392)</td>\n",
       "      <td>04:30:18.41</td>\n",
       "      <td>-52:55:00.5</td>\n",
       "      <td>22.3</td>\n",
       "      <td>-42.7200</td>\n",
       "      <td>-116.200</td>\n",
       "      <td>67.576708</td>\n",
       "      <td>-52.916806</td>\n",
       "      <td>22.3</td>\n",
       "      <td>NaN</td>\n",
       "      <td>...</td>\n",
       "      <td>0.15</td>\n",
       "      <td>0.292203</td>\n",
       "      <td>0.826806</td>\n",
       "      <td>2.460448e+06</td>\n",
       "      <td>316.909550</td>\n",
       "      <td>242.174790</td>\n",
       "      <td>35.357162</td>\n",
       "      <td>2460400.5</td>\n",
       "      <td>21.74</td>\n",
       "      <td>a</td>\n",
       "    </tr>\n",
       "    <tr>\n",
       "      <th>412610</th>\n",
       "      <td>(2019 KJ2)</td>\n",
       "      <td>12:34:50.51</td>\n",
       "      <td>-56:24:48.6</td>\n",
       "      <td>23.0</td>\n",
       "      <td>0.1943</td>\n",
       "      <td>54.860</td>\n",
       "      <td>188.710458</td>\n",
       "      <td>-56.413500</td>\n",
       "      <td>23.0</td>\n",
       "      <td>NaN</td>\n",
       "      <td>...</td>\n",
       "      <td>0.15</td>\n",
       "      <td>0.026481</td>\n",
       "      <td>1.029169</td>\n",
       "      <td>2.460292e+06</td>\n",
       "      <td>61.666135</td>\n",
       "      <td>252.522530</td>\n",
       "      <td>3.143793</td>\n",
       "      <td>2460400.5</td>\n",
       "      <td>27.13</td>\n",
       "      <td>a</td>\n",
       "    </tr>\n",
       "    <tr>\n",
       "      <th>412612</th>\n",
       "      <td>(2011 WR29)</td>\n",
       "      <td>01:52:57.62</td>\n",
       "      <td>-52:09:55.6</td>\n",
       "      <td>23.7</td>\n",
       "      <td>61.7600</td>\n",
       "      <td>-24.870</td>\n",
       "      <td>28.240083</td>\n",
       "      <td>-52.165444</td>\n",
       "      <td>23.7</td>\n",
       "      <td>NaN</td>\n",
       "      <td>...</td>\n",
       "      <td>0.15</td>\n",
       "      <td>0.058705</td>\n",
       "      <td>1.523446</td>\n",
       "      <td>2.455947e+06</td>\n",
       "      <td>63.150917</td>\n",
       "      <td>31.674005</td>\n",
       "      <td>36.766647</td>\n",
       "      <td>2455889.5</td>\n",
       "      <td>20.75</td>\n",
       "      <td>a</td>\n",
       "    </tr>\n",
       "    <tr>\n",
       "      <th>412615</th>\n",
       "      <td>(2020 RS3)</td>\n",
       "      <td>02:27:17.67</td>\n",
       "      <td>-59:30:00.5</td>\n",
       "      <td>21.4</td>\n",
       "      <td>-272.1000</td>\n",
       "      <td>-425.100</td>\n",
       "      <td>36.823625</td>\n",
       "      <td>-59.500139</td>\n",
       "      <td>21.4</td>\n",
       "      <td>NaN</td>\n",
       "      <td>...</td>\n",
       "      <td>0.15</td>\n",
       "      <td>0.604925</td>\n",
       "      <td>0.341804</td>\n",
       "      <td>2.460380e+06</td>\n",
       "      <td>355.291630</td>\n",
       "      <td>158.769640</td>\n",
       "      <td>9.308498</td>\n",
       "      <td>2460400.5</td>\n",
       "      <td>22.80</td>\n",
       "      <td>a</td>\n",
       "    </tr>\n",
       "    <tr>\n",
       "      <th>412616</th>\n",
       "      <td>(2023 XC18)</td>\n",
       "      <td>08:28:48.80</td>\n",
       "      <td>-57:44:07.2</td>\n",
       "      <td>21.6</td>\n",
       "      <td>9.2750</td>\n",
       "      <td>-124.000</td>\n",
       "      <td>127.203333</td>\n",
       "      <td>-57.735333</td>\n",
       "      <td>21.6</td>\n",
       "      <td>NaN</td>\n",
       "      <td>...</td>\n",
       "      <td>0.15</td>\n",
       "      <td>0.217254</td>\n",
       "      <td>0.901388</td>\n",
       "      <td>2.460433e+06</td>\n",
       "      <td>51.500462</td>\n",
       "      <td>175.646190</td>\n",
       "      <td>17.148202</td>\n",
       "      <td>2460400.5</td>\n",
       "      <td>21.48</td>\n",
       "      <td>a</td>\n",
       "    </tr>\n",
       "  </tbody>\n",
       "</table>\n",
       "<p>400514 rows × 22 columns</p>\n",
       "</div>"
      ],
      "text/plain": [
       "                     Object name Astrometric RA (hh:mm:ss)  \\\n",
       "0             14 Irene (A851 KA)               20:18:32.62   \n",
       "1            47 Aglaja (A857 RA)               21:42:37.15   \n",
       "2           55 Pandora (A858 RB)               20:31:07.63   \n",
       "3          70 Panopaea (A861 JA)               22:05:41.20   \n",
       "4       81 Terpsichore (A864 SA)               22:17:00.09   \n",
       "...                          ...                       ...   \n",
       "412609              (2014 OJ392)               04:30:18.41   \n",
       "412610                (2019 KJ2)               12:34:50.51   \n",
       "412612               (2011 WR29)               01:52:57.62   \n",
       "412615                (2020 RS3)               02:27:17.67   \n",
       "412616               (2023 XC18)               08:28:48.80   \n",
       "\n",
       "       Astrometric Dec (dd mm'ss\") Visual magnitude (V)  RA rate (\"/h)  \\\n",
       "0                      -28:16:09.1                 10.2       -37.7000   \n",
       "1                      -20:20:44.9                 11.7       -31.3100   \n",
       "2                      -30:10:03.9                 11.3       -37.7300   \n",
       "3                      -34:17:55.4                 11.0       -27.8300   \n",
       "4                      -19:05:47.0                 12.9       -26.3200   \n",
       "...                            ...                  ...            ...   \n",
       "412609                 -52:55:00.5                 22.3       -42.7200   \n",
       "412610                 -56:24:48.6                 23.0         0.1943   \n",
       "412612                 -52:09:55.6                 23.7        61.7600   \n",
       "412615                 -59:30:00.5                 21.4      -272.1000   \n",
       "412616                 -57:44:07.2                 21.6         9.2750   \n",
       "\n",
       "        Dec rate (\"/h)          ra        dec  V_mag            name  ...  \\\n",
       "0              -14.660  304.635917 -28.269194   10.2        14 Irene  ...   \n",
       "1              -10.020  325.654792 -20.345806   11.7       47 Aglaja  ...   \n",
       "2               -7.225  307.781792 -30.167750   11.3      55 Pandora  ...   \n",
       "3              -22.000  331.421667 -34.298722   11.0     70 Panopaea  ...   \n",
       "4               -9.890  334.250375 -19.096389   12.9  81 Terpsichore  ...   \n",
       "...                ...         ...        ...    ...             ...  ...   \n",
       "412609        -116.200   67.576708 -52.916806   22.3             NaN  ...   \n",
       "412610          54.860  188.710458 -56.413500   23.0             NaN  ...   \n",
       "412612         -24.870   28.240083 -52.165444   23.7             NaN  ...   \n",
       "412615        -425.100   36.823625 -59.500139   21.4             NaN  ...   \n",
       "412616        -124.000  127.203333 -57.735333   21.6             NaN  ...   \n",
       "\n",
       "       Magnitude slope (G) Eccentricity  Perihelion (au)  \\\n",
       "0                     0.15     0.163735         2.165955   \n",
       "1                     0.16     0.130382         2.506289   \n",
       "2                     0.15     0.144925         2.360695   \n",
       "3                     0.14     0.182227         2.138606   \n",
       "4                     0.15     0.212253         2.247969   \n",
       "...                    ...          ...              ...   \n",
       "412609                0.15     0.292203         0.826806   \n",
       "412610                0.15     0.026481         1.029169   \n",
       "412612                0.15     0.058705         1.523446   \n",
       "412615                0.15     0.604925         0.341804   \n",
       "412616                0.15     0.217254         0.901388   \n",
       "\n",
       "        Time of perihelion passage (JD)  Longitude of ascending node (deg)  \\\n",
       "0                          2.460944e+06                          86.027807   \n",
       "1                          2.460132e+06                           3.048636   \n",
       "2                          2.460270e+06                          10.352186   \n",
       "3                          2.459845e+06                          47.651835   \n",
       "4                          2.460421e+06                           0.940849   \n",
       "...                                 ...                                ...   \n",
       "412609                     2.460448e+06                         316.909550   \n",
       "412610                     2.460292e+06                          61.666135   \n",
       "412612                     2.455947e+06                          63.150917   \n",
       "412615                     2.460380e+06                         355.291630   \n",
       "412616                     2.460433e+06                          51.500462   \n",
       "\n",
       "        Argument of perihelion (deg)  Inclination (deg)  Epoch (JD)  H_mag  \\\n",
       "0                          97.907108           9.123808   2460400.5   6.55   \n",
       "1                         315.475880           4.973808   2460400.5   8.20   \n",
       "2                           5.385047           7.177599   2460400.5   7.86   \n",
       "3                         255.575170          11.598061   2460400.5   8.20   \n",
       "4                          51.386776           7.801877   2460400.5   8.71   \n",
       "...                              ...                ...         ...    ...   \n",
       "412609                    242.174790          35.357162   2460400.5  21.74   \n",
       "412610                    252.522530           3.143793   2460400.5  27.13   \n",
       "412612                     31.674005          36.766647   2455889.5  20.75   \n",
       "412615                    158.769640           9.308498   2460400.5  22.80   \n",
       "412616                    175.646190          17.148202   2460400.5  21.48   \n",
       "\n",
       "        kind  \n",
       "0          a  \n",
       "1          a  \n",
       "2          a  \n",
       "3          a  \n",
       "4          a  \n",
       "...      ...  \n",
       "412609     a  \n",
       "412610     a  \n",
       "412612     a  \n",
       "412615     a  \n",
       "412616     a  \n",
       "\n",
       "[400514 rows x 22 columns]"
      ]
     },
     "execution_count": 118,
     "metadata": {},
     "output_type": "execute_result"
    }
   ],
   "source": [
    "big_cat_1.query(\"V_mag < 24\")"
   ]
  },
  {
   "cell_type": "code",
   "execution_count": 107,
   "id": "8506da55-ed73-4bc7-b7ab-344111e457cf",
   "metadata": {},
   "outputs": [],
   "source": [
    "aster_names = []\n",
    "for sector in range(1, 14):\n",
    "    tarf = f\"{os.path.dirname(PACKAGEDIR)}/data/jpl/tracks/sector{sector:04}.tar\"\n",
    "    tardb = tarfile.open(tarf, mode=\"r\")\n",
    "    aster_names.extend(tardb.getnames()[1:])\n",
    "aster_names = np.array([x.split(\"/\")[-1].split(\"_\")[-2] for x in aster_names])"
   ]
  },
  {
   "cell_type": "code",
   "execution_count": 119,
   "id": "aa14e9f8-473e-4c1b-9027-2f921b7b3201",
   "metadata": {},
   "outputs": [
    {
     "data": {
      "text/plain": [
       "array(['2013-RV103', '2002-RH41', '2001-RP53', ..., '2014-PY33',\n",
       "       '2003-RE10', '2014-QZ537'], dtype='<U25')"
      ]
     },
     "execution_count": 119,
     "metadata": {},
     "output_type": "execute_result"
    }
   ],
   "source": [
    "aster_names"
   ]
  },
  {
   "cell_type": "code",
   "execution_count": 122,
   "id": "f97307d7-e760-4f9b-a6e5-9a94318943e1",
   "metadata": {},
   "outputs": [],
   "source": [
    "mask = np.isin(big_cat_1.query(\"V_mag < 24\").id.values, aster_names)"
   ]
  },
  {
   "cell_type": "code",
   "execution_count": 123,
   "id": "be3d8ad9-8018-4d60-b51d-f9214a3e379a",
   "metadata": {},
   "outputs": [
    {
     "data": {
      "text/plain": [
       "(400514,)"
      ]
     },
     "execution_count": 123,
     "metadata": {},
     "output_type": "execute_result"
    }
   ],
   "source": [
    "mask.shape"
   ]
  },
  {
   "cell_type": "code",
   "execution_count": null,
   "id": "1692347b-85df-40aa-ac28-c6f48e276f28",
   "metadata": {},
   "outputs": [],
   "source": []
  },
  {
   "cell_type": "code",
   "execution_count": null,
   "id": "0e3c249e-3694-44d1-a435-a3e3a4e76315",
   "metadata": {},
   "outputs": [],
   "source": []
  },
  {
   "cell_type": "code",
   "execution_count": null,
   "id": "7cdbd23e-4f94-4401-a7b2-264c1acf8a48",
   "metadata": {},
   "outputs": [],
   "source": []
  },
  {
   "cell_type": "code",
   "execution_count": 99,
   "id": "4ba15fcb-f346-459c-8d21-a9f84cf99782",
   "metadata": {},
   "outputs": [
    {
     "data": {
      "image/png": "[encoded data removed]",
      "text/plain": [
       "<Figure size 750x750 with 9 Axes>"
      ]
     },
     "metadata": {},
     "output_type": "display_data"
    }
   ],
   "source": [
    "plot_vars = [\"V_mag\", \"Eccentricity\", \"Inclination (deg)\"]\n",
    "\n",
    "fig = sb.pairplot(big_cat_1.query(\"V_mag < 26\"), \n",
    "                  vars=plot_vars, \n",
    "                  kind='hist', \n",
    "                  diag_kind='kde', \n",
    "                  corner=True, \n",
    "                  markers=\".\", \n",
    "                  # plot_kws={\"edgecolor\": \"none\", \"alpha\": 0.2},\n",
    "                  plot_kws={\"bins\": 50}\n",
    "                 )\n",
    "# fig.axes[0,0].set_ylabel(\"V mag\")\n",
    "fig.axes[1,0].set_ylabel(\"Eccentricity\")\n",
    "fig.axes[2,0].set_ylabel(\"Inclination [deg]\")\n",
    "fig.axes[2,0].set_xlabel(\"V mag\")\n",
    "fig.axes[2,1].set_xlabel(\"Eccentricity\")\n",
    "fig.axes[2,2].set_xlabel(\"Inclination [deg]\")\n",
    "\n",
    "dir_name = f\"{os.path.dirname(PACKAGEDIR)}/data/figures/paper_plots\"\n",
    "if not os.path.isdir(dir_name):\n",
    "    os.makedirs(dir_name)\n",
    "dir_name = (\n",
    "    f\"{dir_name}/jpl_sbd_tess_y2.pdf\"\n",
    ")\n",
    "fig.tight_layout()\n",
    "plt.savefig(dir_name, bbox_inches=\"tight\")\n",
    "\n",
    "plt.show()"
   ]
  },
  {
   "cell_type": "code",
   "execution_count": 75,
   "id": "21cbbfec-c96e-42eb-a973-89c4dff5039e",
   "metadata": {},
   "outputs": [
    {
     "data": {
      "text/plain": [
       "<Axes: xlabel='V_mag', ylabel='Eccentricity'>"
      ]
     },
     "execution_count": 75,
     "metadata": {},
     "output_type": "execute_result"
    }
   ],
   "source": [
    "fig.axes[1,0]"
   ]
  },
  {
   "cell_type": "code",
   "execution_count": null,
   "id": "3bf6d99a-a62d-4413-83ec-f2bc26dc730c",
   "metadata": {},
   "outputs": [],
   "source": []
  },
  {
   "cell_type": "code",
   "execution_count": 73,
   "id": "2a1b693d-67a0-43b4-8bae-57759982904e",
   "metadata": {},
   "outputs": [
    {
     "data": {
      "text/plain": [
       "array([[<Axes: ylabel='V mag'>, None, None],\n",
       "       [<Axes: xlabel='V_mag', ylabel='Eccentricity'>, <Axes: >, None],\n",
       "       [<Axes: xlabel='V_mag', ylabel='Inclination (deg)'>,\n",
       "        <Axes: xlabel='Eccentricity', ylabel='Inclination (deg)'>,\n",
       "        <Axes: xlabel='Inclination (deg)'>]], dtype=object)"
      ]
     },
     "execution_count": 73,
     "metadata": {},
     "output_type": "execute_result"
    }
   ],
   "source": [
    "fig.axes"
   ]
  },
  {
   "cell_type": "code",
   "execution_count": null,
   "id": "473b6462-eea6-4f90-8ffa-d371dcf2724f",
   "metadata": {},
   "outputs": [],
   "source": []
  },
  {
   "cell_type": "code",
   "execution_count": 35,
   "id": "634714a2-2ddc-44ad-8ca1-8b2985372ee4",
   "metadata": {},
   "outputs": [
    {
     "data": {
      "image/png": "[encoded data removed]",
      "text/plain": [
       "<Figure size 640x480 with 1 Axes>"
      ]
     },
     "metadata": {},
     "output_type": "display_data"
    }
   ],
   "source": [
    "plt.hist(big_cat_1.V_mag, bins=100, histtype=\"step\")\n",
    "plt.xlabel(\"V mag\")\n",
    "plt.ylabel(\"N\")\n",
    "plt.show()"
   ]
  },
  {
   "cell_type": "code",
   "execution_count": null,
   "id": "74c55134-3693-46fb-b3f6-bff24b007d84",
   "metadata": {},
   "outputs": [],
   "source": []
  }
 ],
 "metadata": {
  "kernelspec": {
   "display_name": "tess",
   "language": "python",
   "name": "tess"
  },
  "language_info": {
   "codemirror_mode": {
    "name": "ipython",
    "version": 3
   },
   "file_extension": ".py",
   "mimetype": "text/x-python",
   "name": "python",
   "nbconvert_exporter": "python",
   "pygments_lexer": "ipython3",
   "version": "3.9.19"
  },
  "widgets": {
   "application/vnd.jupyter.widget-state+json": {
    "state": {},
    "version_major": 2,
    "version_minor": 0
   }
  }
 },
 "nbformat": 4,
 "nbformat_minor": 5
}
